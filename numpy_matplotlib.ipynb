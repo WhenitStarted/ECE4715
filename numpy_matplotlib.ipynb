{
  "nbformat": 4,
  "nbformat_minor": 0,
  "metadata": {
    "colab": {
      "provenance": [],
      "authorship_tag": "ABX9TyMulbwsOLX5tevWdd4Z2YFZ",
      "include_colab_link": true
    },
    "kernelspec": {
      "name": "python3",
      "display_name": "Python 3"
    },
    "language_info": {
      "name": "python"
    }
  },
  "cells": [
    {
      "cell_type": "markdown",
      "metadata": {
        "id": "view-in-github",
        "colab_type": "text"
      },
      "source": [
        "<a href=\"https://colab.research.google.com/github/aseddin/F23_ECE4715/blob/main/numpy_matplotlib.ipynb\" target=\"_parent\"><img src=\"https://colab.research.google.com/assets/colab-badge.svg\" alt=\"Open In Colab\"/></a>"
      ]
    },
    {
      "cell_type": "markdown",
      "source": [
        "# [NumPy](https://numpy.org/)\n",
        "\n",
        "Short for \"Numerical Python,\" is a fundamental Python library for numerical and scientific computing. It provides support for creating and manipulating arrays of data, which are essential for tasks such as numerical calculations, data analysis, and machine learning. NumPy's key features include efficient array operations, a wide range of mathematical functions, broadcasting for element-wise operations on arrays of different shapes, and seamless integration with other scientific libraries.\n",
        "\n",
        "If you are coming from Matlab [this](https://numpy.org/doc/stable/user/numpy-for-matlab-users.html) article might be a good starting point.\n",
        "\n",
        "The following is a Numpy quickstart guide"
      ],
      "metadata": {
        "id": "f67f1J7ib__k"
      }
    },
    {
      "cell_type": "markdown",
      "source": [
        "## The Basics\n",
        "\n",
        "In NumPy, the primary class is `ndarray`, often simply referred to as `array`. This class is responsible for handling homogeneous N-dimensional arrays. Here are some essential attributes of the `ndarray` class:\n",
        "\n",
        "- `ndarray.ndim`: Indicates the number of dimensions (axes) of the array.\n",
        "- `ndarray.shape`: A tuple that specifies the size of the array in each dimension.\n",
        "- `ndarray.size`: Represents the total number of elements within the array, which is the product of the elements of `ndarray.shape`.\n",
        "- `ndarray.dtype`: Specifies the data type of the elements contained in the array (e.g., `numpy.int32`, `numpy.float64`, etc.).\n",
        "- `ndarray.data`: This attribute contains the actual elements of the array, but typically, you'll access these elements through slicing operations, making direct use of this attribute unnecessary."
      ],
      "metadata": {
        "id": "FgRtwpfkWnT3"
      }
    },
    {
      "cell_type": "code",
      "source": [
        "import numpy as np"
      ],
      "metadata": {
        "id": "ca-fLPw6p1n-"
      },
      "execution_count": 1,
      "outputs": []
    },
    {
      "cell_type": "markdown",
      "source": [
        "### Array Creation\n",
        "\n",
        "There are various methods for creating arrays in NumPy. You can begin by converting a standard Python sequence, such as a list or tuple, into a NumPy array. Additionally, you can generate arrays filled with ones, zeros, random numbers, or a sorted sequence of numbers."
      ],
      "metadata": {
        "id": "2buAPgB0lo0K"
      }
    },
    {
      "cell_type": "markdown",
      "source": [
        "#### Using `array`"
      ],
      "metadata": {
        "id": "1WJMaHHVtFzU"
      }
    },
    {
      "cell_type": "code",
      "source": [
        "v = np.array([1, 2, 3])\n",
        "v"
      ],
      "metadata": {
        "colab": {
          "base_uri": "https://localhost:8080/"
        },
        "id": "4Sq2PCynqe3d",
        "outputId": "7494be78-ad5e-4c1f-af12-33fc6101bae8"
      },
      "execution_count": 2,
      "outputs": [
        {
          "output_type": "execute_result",
          "data": {
            "text/plain": [
              "array([1, 2, 3])"
            ]
          },
          "metadata": {},
          "execution_count": 2
        }
      ]
    },
    {
      "cell_type": "code",
      "source": [
        "type(v)"
      ],
      "metadata": {
        "colab": {
          "base_uri": "https://localhost:8080/"
        },
        "id": "PRd1f0jzrCxP",
        "outputId": "13b589e4-ffb9-4d27-8a49-23503af3da60"
      },
      "execution_count": 3,
      "outputs": [
        {
          "output_type": "execute_result",
          "data": {
            "text/plain": [
              "numpy.ndarray"
            ]
          },
          "metadata": {},
          "execution_count": 3
        }
      ]
    },
    {
      "cell_type": "code",
      "source": [
        "v.ndim"
      ],
      "metadata": {
        "colab": {
          "base_uri": "https://localhost:8080/"
        },
        "id": "Q5yZ_7zeql6W",
        "outputId": "af03e65e-b4b6-4c73-a30d-d156b90388d0"
      },
      "execution_count": 4,
      "outputs": [
        {
          "output_type": "execute_result",
          "data": {
            "text/plain": [
              "1"
            ]
          },
          "metadata": {},
          "execution_count": 4
        }
      ]
    },
    {
      "cell_type": "code",
      "source": [
        "v.shape"
      ],
      "metadata": {
        "colab": {
          "base_uri": "https://localhost:8080/"
        },
        "id": "qvHxU7qwqq0f",
        "outputId": "fa5e54a2-0b14-4737-a4d1-79c9b949bf84"
      },
      "execution_count": 5,
      "outputs": [
        {
          "output_type": "execute_result",
          "data": {
            "text/plain": [
              "(3,)"
            ]
          },
          "metadata": {},
          "execution_count": 5
        }
      ]
    },
    {
      "cell_type": "code",
      "source": [
        "v.size"
      ],
      "metadata": {
        "colab": {
          "base_uri": "https://localhost:8080/"
        },
        "id": "Vv0zETP3qvYJ",
        "outputId": "ad580a38-5e4a-4081-9c67-28bedaa5454b"
      },
      "execution_count": 6,
      "outputs": [
        {
          "output_type": "execute_result",
          "data": {
            "text/plain": [
              "3"
            ]
          },
          "metadata": {},
          "execution_count": 6
        }
      ]
    },
    {
      "cell_type": "code",
      "source": [
        "v.dtype"
      ],
      "metadata": {
        "colab": {
          "base_uri": "https://localhost:8080/"
        },
        "id": "irAvkKE6qwmg",
        "outputId": "dc42e745-254f-4909-eaaa-407d18e586d8"
      },
      "execution_count": 7,
      "outputs": [
        {
          "output_type": "execute_result",
          "data": {
            "text/plain": [
              "dtype('int64')"
            ]
          },
          "metadata": {},
          "execution_count": 7
        }
      ]
    },
    {
      "cell_type": "markdown",
      "source": [
        "If the Python sequence is nested, such as a list of lists, the `array` function will transform it into a multidimensional array in NumPy."
      ],
      "metadata": {
        "id": "7RkJw1yFrSkm"
      }
    },
    {
      "cell_type": "code",
      "source": [
        "m = np.array(\n",
        "    [[1, 2, 3],\n",
        "     [4, 5, 6]]\n",
        ")\n",
        "\n",
        "print(f\"dimensions: {m.ndim} \\nshape: {m.shape} \\nsize: {m.size}\")"
      ],
      "metadata": {
        "colab": {
          "base_uri": "https://localhost:8080/"
        },
        "id": "P-teBGNuqzKy",
        "outputId": "167bc1cd-2d8d-4b07-b41d-2199d20ffa8b"
      },
      "execution_count": 8,
      "outputs": [
        {
          "output_type": "stream",
          "name": "stdout",
          "text": [
            "dimensions: 2 \n",
            "shape: (2, 3) \n",
            "size: 6\n"
          ]
        }
      ]
    },
    {
      "cell_type": "code",
      "source": [
        "t = np.array(\n",
        "    [[[1, 2, 3],\n",
        "      [4, 5, 6]],\n",
        "\n",
        "     [[10, 20, 30],\n",
        "      [40, 50, 60]]\n",
        "     ]\n",
        ")\n",
        "\n",
        "print(f\"dimensions: {t.ndim} \\nshape: {t.shape} \\nsize: {t.size}\")"
      ],
      "metadata": {
        "colab": {
          "base_uri": "https://localhost:8080/"
        },
        "id": "RG_9YDElsV2k",
        "outputId": "8db68fbf-1023-4f80-c962-0d846685e805"
      },
      "execution_count": 9,
      "outputs": [
        {
          "output_type": "stream",
          "name": "stdout",
          "text": [
            "dimensions: 3 \n",
            "shape: (2, 2, 3) \n",
            "size: 12\n"
          ]
        }
      ]
    },
    {
      "cell_type": "markdown",
      "source": [
        "#### Using placeholder functions\n",
        "\n",
        "Typically useful to avoid growing arrays (which are expensive)"
      ],
      "metadata": {
        "id": "03TcOQn2tKBE"
      }
    },
    {
      "cell_type": "code",
      "source": [
        "z = np.zeros((3, 4))\n",
        "\n",
        "z"
      ],
      "metadata": {
        "colab": {
          "base_uri": "https://localhost:8080/"
        },
        "id": "ypPWaQX4s7oS",
        "outputId": "6eb8c143-3b33-4856-c985-acb96be9eb7d"
      },
      "execution_count": 10,
      "outputs": [
        {
          "output_type": "execute_result",
          "data": {
            "text/plain": [
              "array([[0., 0., 0., 0.],\n",
              "       [0., 0., 0., 0.],\n",
              "       [0., 0., 0., 0.]])"
            ]
          },
          "metadata": {},
          "execution_count": 10
        }
      ]
    },
    {
      "cell_type": "code",
      "source": [
        "o = np.ones((5, 6, 7))\n",
        "\n",
        "o"
      ],
      "metadata": {
        "colab": {
          "base_uri": "https://localhost:8080/"
        },
        "id": "5mkUUTYPtiXX",
        "outputId": "8b841ffc-182d-40e7-cec6-0bd3e3418fb0"
      },
      "execution_count": 11,
      "outputs": [
        {
          "output_type": "execute_result",
          "data": {
            "text/plain": [
              "array([[[1., 1., 1., 1., 1., 1., 1.],\n",
              "        [1., 1., 1., 1., 1., 1., 1.],\n",
              "        [1., 1., 1., 1., 1., 1., 1.],\n",
              "        [1., 1., 1., 1., 1., 1., 1.],\n",
              "        [1., 1., 1., 1., 1., 1., 1.],\n",
              "        [1., 1., 1., 1., 1., 1., 1.]],\n",
              "\n",
              "       [[1., 1., 1., 1., 1., 1., 1.],\n",
              "        [1., 1., 1., 1., 1., 1., 1.],\n",
              "        [1., 1., 1., 1., 1., 1., 1.],\n",
              "        [1., 1., 1., 1., 1., 1., 1.],\n",
              "        [1., 1., 1., 1., 1., 1., 1.],\n",
              "        [1., 1., 1., 1., 1., 1., 1.]],\n",
              "\n",
              "       [[1., 1., 1., 1., 1., 1., 1.],\n",
              "        [1., 1., 1., 1., 1., 1., 1.],\n",
              "        [1., 1., 1., 1., 1., 1., 1.],\n",
              "        [1., 1., 1., 1., 1., 1., 1.],\n",
              "        [1., 1., 1., 1., 1., 1., 1.],\n",
              "        [1., 1., 1., 1., 1., 1., 1.]],\n",
              "\n",
              "       [[1., 1., 1., 1., 1., 1., 1.],\n",
              "        [1., 1., 1., 1., 1., 1., 1.],\n",
              "        [1., 1., 1., 1., 1., 1., 1.],\n",
              "        [1., 1., 1., 1., 1., 1., 1.],\n",
              "        [1., 1., 1., 1., 1., 1., 1.],\n",
              "        [1., 1., 1., 1., 1., 1., 1.]],\n",
              "\n",
              "       [[1., 1., 1., 1., 1., 1., 1.],\n",
              "        [1., 1., 1., 1., 1., 1., 1.],\n",
              "        [1., 1., 1., 1., 1., 1., 1.],\n",
              "        [1., 1., 1., 1., 1., 1., 1.],\n",
              "        [1., 1., 1., 1., 1., 1., 1.],\n",
              "        [1., 1., 1., 1., 1., 1., 1.]]])"
            ]
          },
          "metadata": {},
          "execution_count": 11
        }
      ]
    },
    {
      "cell_type": "code",
      "source": [
        "e = np.empty((2, 3))\n",
        "\n",
        "e #contains random numbers depending on the state of memory"
      ],
      "metadata": {
        "colab": {
          "base_uri": "https://localhost:8080/"
        },
        "id": "TzTfU5G4tqkk",
        "outputId": "a856a1ee-04b8-4b91-851d-aa70d5db2495"
      },
      "execution_count": 12,
      "outputs": [
        {
          "output_type": "execute_result",
          "data": {
            "text/plain": [
              "array([[4.96402496e-310, 0.00000000e+000, 3.68067497e+180],\n",
              "       [2.46345036e-154, 2.65141253e+180, 3.99461109e+252]])"
            ]
          },
          "metadata": {},
          "execution_count": 12
        }
      ]
    },
    {
      "cell_type": "code",
      "source": [
        "ra = np.random.rand(3, 4) # random numbers uniformly distributed between 0 and 1\n",
        "\n",
        "ra"
      ],
      "metadata": {
        "colab": {
          "base_uri": "https://localhost:8080/"
        },
        "id": "D3FTHDZQu_Pa",
        "outputId": "d0496688-e061-49d2-e129-ee09b1a0c749"
      },
      "execution_count": 13,
      "outputs": [
        {
          "output_type": "execute_result",
          "data": {
            "text/plain": [
              "array([[0.92092534, 0.80742822, 0.20777175, 0.57383635],\n",
              "       [0.2856106 , 0.08588166, 0.08228442, 0.57340077],\n",
              "       [0.52448704, 0.04978737, 0.55127754, 0.79100118]])"
            ]
          },
          "metadata": {},
          "execution_count": 13
        }
      ]
    },
    {
      "cell_type": "code",
      "source": [
        "ra = np.random.randn(3, 4) # random numbers normally distributed (mean = 0, std = 1)\n",
        "\n",
        "ra"
      ],
      "metadata": {
        "colab": {
          "base_uri": "https://localhost:8080/"
        },
        "id": "Jj9tlBWvvLTA",
        "outputId": "ac80272e-b3fb-42f5-e27c-94297dd497be"
      },
      "execution_count": 14,
      "outputs": [
        {
          "output_type": "execute_result",
          "data": {
            "text/plain": [
              "array([[-0.87433462,  1.06936044,  0.80861086, -1.6229711 ],\n",
              "       [ 0.27396825,  0.38308215, -0.24077186,  1.51964032],\n",
              "       [ 1.14021611, -0.39969539, -1.06648588, -0.83765346]])"
            ]
          },
          "metadata": {},
          "execution_count": 14
        }
      ]
    },
    {
      "cell_type": "code",
      "source": [
        "ra = np.random.uniform(5, 10, (3, 4)) # random numbers uniformly distributed between 5 and 10\n",
        "\n",
        "ra"
      ],
      "metadata": {
        "colab": {
          "base_uri": "https://localhost:8080/"
        },
        "id": "UJB01M8JvNLs",
        "outputId": "9fac7198-5005-4b34-dd1c-1e5e184f9499"
      },
      "execution_count": 15,
      "outputs": [
        {
          "output_type": "execute_result",
          "data": {
            "text/plain": [
              "array([[8.50422545, 9.7697526 , 8.25847987, 6.61942834],\n",
              "       [5.32381577, 6.32812343, 8.36525239, 9.44085673],\n",
              "       [6.96342371, 5.85749044, 9.88138638, 7.73056396]])"
            ]
          },
          "metadata": {},
          "execution_count": 15
        }
      ]
    },
    {
      "cell_type": "code",
      "source": [
        "i = np.eye(4)\n",
        "\n",
        "i"
      ],
      "metadata": {
        "colab": {
          "base_uri": "https://localhost:8080/"
        },
        "id": "adRL3WMZuDMf",
        "outputId": "dcc6f9ae-26dd-4799-857e-12da753286dd"
      },
      "execution_count": 16,
      "outputs": [
        {
          "output_type": "execute_result",
          "data": {
            "text/plain": [
              "array([[1., 0., 0., 0.],\n",
              "       [0., 1., 0., 0.],\n",
              "       [0., 0., 1., 0.],\n",
              "       [0., 0., 0., 1.]])"
            ]
          },
          "metadata": {},
          "execution_count": 16
        }
      ]
    },
    {
      "cell_type": "code",
      "source": [
        "d = np.diag([1, 2, 3, 4])\n",
        "\n",
        "d"
      ],
      "metadata": {
        "colab": {
          "base_uri": "https://localhost:8080/"
        },
        "id": "JE4t3NXWuI6o",
        "outputId": "872668d6-8718-4196-f2e8-87c64c86c086"
      },
      "execution_count": 17,
      "outputs": [
        {
          "output_type": "execute_result",
          "data": {
            "text/plain": [
              "array([[1, 0, 0, 0],\n",
              "       [0, 2, 0, 0],\n",
              "       [0, 0, 3, 0],\n",
              "       [0, 0, 0, 4]])"
            ]
          },
          "metadata": {},
          "execution_count": 17
        }
      ]
    },
    {
      "cell_type": "code",
      "source": [
        "# arange generates a range (start, stop, step). Typically difficult to know for sure the number of elements\n",
        "r = np.arange(10, 20, 0.5)\n",
        "\n",
        "r"
      ],
      "metadata": {
        "colab": {
          "base_uri": "https://localhost:8080/"
        },
        "id": "h12B5XhDuN9x",
        "outputId": "15077983-7866-4d7e-d114-353f16ab5ae7"
      },
      "execution_count": 18,
      "outputs": [
        {
          "output_type": "execute_result",
          "data": {
            "text/plain": [
              "array([10. , 10.5, 11. , 11.5, 12. , 12.5, 13. , 13.5, 14. , 14.5, 15. ,\n",
              "       15.5, 16. , 16.5, 17. , 17.5, 18. , 18.5, 19. , 19.5])"
            ]
          },
          "metadata": {},
          "execution_count": 18
        }
      ]
    },
    {
      "cell_type": "code",
      "source": [
        "# if you want a specific number of elements use linspace\n",
        "\n",
        "l = np.linspace(10, 20, 23)\n",
        "\n",
        "l"
      ],
      "metadata": {
        "colab": {
          "base_uri": "https://localhost:8080/"
        },
        "id": "jflrw3zTunPD",
        "outputId": "82b27199-44da-4625-a43c-616b992e18ff"
      },
      "execution_count": 19,
      "outputs": [
        {
          "output_type": "execute_result",
          "data": {
            "text/plain": [
              "array([10.        , 10.45454545, 10.90909091, 11.36363636, 11.81818182,\n",
              "       12.27272727, 12.72727273, 13.18181818, 13.63636364, 14.09090909,\n",
              "       14.54545455, 15.        , 15.45454545, 15.90909091, 16.36363636,\n",
              "       16.81818182, 17.27272727, 17.72727273, 18.18181818, 18.63636364,\n",
              "       19.09090909, 19.54545455, 20.        ])"
            ]
          },
          "metadata": {},
          "execution_count": 19
        }
      ]
    },
    {
      "cell_type": "code",
      "source": [
        "l.shape"
      ],
      "metadata": {
        "colab": {
          "base_uri": "https://localhost:8080/"
        },
        "id": "Ml60-Y46u0mH",
        "outputId": "fdf29627-4c5d-4eb8-f4e2-0a5c251e1fcc"
      },
      "execution_count": 20,
      "outputs": [
        {
          "output_type": "execute_result",
          "data": {
            "text/plain": [
              "(23,)"
            ]
          },
          "metadata": {},
          "execution_count": 20
        }
      ]
    },
    {
      "cell_type": "markdown",
      "source": [
        "## Why use NumPy arrays?\n",
        "\n",
        "Although you can use Python lists for computation, they tend to be considerably slower. NumPy arrays are specifically designed for faster and more efficient computations, often eliminating the need for explicit loops. To appreciate the performance difference, examine the timing of the code cells below to compare the two approaches."
      ],
      "metadata": {
        "id": "dMqRyh8-wtIg"
      }
    },
    {
      "cell_type": "code",
      "source": [
        "np.random.seed(42)\n",
        "\n",
        "np_x = np.random.rand(100_000_000)\n",
        "list_x = list(np_x)\n",
        "\n",
        "result1 = np.empty(np_x.shape)\n",
        "result2 = np.empty(np_x.shape)\n",
        "result3 = []"
      ],
      "metadata": {
        "id": "_TMspb72xNno"
      },
      "execution_count": 21,
      "outputs": []
    },
    {
      "cell_type": "code",
      "source": [
        "type(np_x)"
      ],
      "metadata": {
        "colab": {
          "base_uri": "https://localhost:8080/"
        },
        "id": "fPaBPVaSxNlI",
        "outputId": "2fc59dd5-38e5-4866-b2e4-3efdc5996043"
      },
      "execution_count": 22,
      "outputs": [
        {
          "output_type": "execute_result",
          "data": {
            "text/plain": [
              "numpy.ndarray"
            ]
          },
          "metadata": {},
          "execution_count": 22
        }
      ]
    },
    {
      "cell_type": "code",
      "source": [
        "type(list_x)"
      ],
      "metadata": {
        "colab": {
          "base_uri": "https://localhost:8080/"
        },
        "id": "1nbutqRhxNij",
        "outputId": "b894b2bc-30eb-44ea-f305-9beea29b087d"
      },
      "execution_count": 23,
      "outputs": [
        {
          "output_type": "execute_result",
          "data": {
            "text/plain": [
              "list"
            ]
          },
          "metadata": {},
          "execution_count": 23
        }
      ]
    },
    {
      "cell_type": "code",
      "source": [
        "for i, x in enumerate(np_x):\n",
        "  result1[i] = x ** 3"
      ],
      "metadata": {
        "id": "4veVeti3xNdU"
      },
      "execution_count": 24,
      "outputs": []
    },
    {
      "cell_type": "code",
      "source": [
        "# no need for loops\n",
        "result2 = np_x ** 3"
      ],
      "metadata": {
        "id": "R3HX8r9axfDR"
      },
      "execution_count": 25,
      "outputs": []
    },
    {
      "cell_type": "code",
      "source": [
        "np.array_equal(result1, result2)"
      ],
      "metadata": {
        "colab": {
          "base_uri": "https://localhost:8080/"
        },
        "id": "YzVXic5uxfAt",
        "outputId": "40837baf-e324-4db7-e193-d9e69b583e69"
      },
      "execution_count": 26,
      "outputs": [
        {
          "output_type": "execute_result",
          "data": {
            "text/plain": [
              "True"
            ]
          },
          "metadata": {},
          "execution_count": 26
        }
      ]
    },
    {
      "cell_type": "code",
      "source": [
        "for i, x in enumerate(list_x):\n",
        "  result3.append(x ** 3)"
      ],
      "metadata": {
        "id": "0BDL_getxe-T"
      },
      "execution_count": 27,
      "outputs": []
    },
    {
      "cell_type": "code",
      "source": [
        "# clear the memory by releasing result1, result2, result3\n",
        "del result1, result2, result3"
      ],
      "metadata": {
        "id": "I3UPmgh6SX2n"
      },
      "execution_count": 28,
      "outputs": []
    },
    {
      "cell_type": "markdown",
      "source": [
        "### Basic Operations\n",
        "\n",
        "The default mode in numpy is _elementwise_ operations.\n",
        "\n",
        "Some operators are: (`+`, `-`, `*`, `/`, `//`, `**`, `<`, `==`, etc.)\n",
        "\n"
      ],
      "metadata": {
        "id": "dwVINwpClw3T"
      }
    },
    {
      "cell_type": "code",
      "source": [
        "v1 = np.array([1 ,2])\n",
        "v2 = np.array([3, 4])"
      ],
      "metadata": {
        "id": "AtT40_8v0HBR"
      },
      "execution_count": 29,
      "outputs": []
    },
    {
      "cell_type": "code",
      "source": [
        "v1 + v2"
      ],
      "metadata": {
        "colab": {
          "base_uri": "https://localhost:8080/"
        },
        "id": "FUVxVfXh0W9h",
        "outputId": "9d8564e6-bb88-4379-b4a8-9d737f80875c"
      },
      "execution_count": 30,
      "outputs": [
        {
          "output_type": "execute_result",
          "data": {
            "text/plain": [
              "array([4, 6])"
            ]
          },
          "metadata": {},
          "execution_count": 30
        }
      ]
    },
    {
      "cell_type": "code",
      "source": [
        "v1 - v2"
      ],
      "metadata": {
        "colab": {
          "base_uri": "https://localhost:8080/"
        },
        "id": "POCtjVeL0cdG",
        "outputId": "c0f9e8a8-774d-412a-86a7-db679367ff59"
      },
      "execution_count": 31,
      "outputs": [
        {
          "output_type": "execute_result",
          "data": {
            "text/plain": [
              "array([-2, -2])"
            ]
          },
          "metadata": {},
          "execution_count": 31
        }
      ]
    },
    {
      "cell_type": "code",
      "source": [
        "v1 * v2 # elementwise multiplication"
      ],
      "metadata": {
        "colab": {
          "base_uri": "https://localhost:8080/"
        },
        "id": "FQK5N7HA0cXs",
        "outputId": "d4e847d1-7737-4cad-abb5-bbc3c3452dfc"
      },
      "execution_count": 32,
      "outputs": [
        {
          "output_type": "execute_result",
          "data": {
            "text/plain": [
              "array([3, 8])"
            ]
          },
          "metadata": {},
          "execution_count": 32
        }
      ]
    },
    {
      "cell_type": "code",
      "source": [
        "v1 * 2"
      ],
      "metadata": {
        "colab": {
          "base_uri": "https://localhost:8080/"
        },
        "id": "6GdaGfms0cQ2",
        "outputId": "388e89e5-fed0-410a-99c9-84572638f9f7"
      },
      "execution_count": 33,
      "outputs": [
        {
          "output_type": "execute_result",
          "data": {
            "text/plain": [
              "array([2, 4])"
            ]
          },
          "metadata": {},
          "execution_count": 33
        }
      ]
    },
    {
      "cell_type": "code",
      "source": [
        "v1 ** 2"
      ],
      "metadata": {
        "colab": {
          "base_uri": "https://localhost:8080/"
        },
        "id": "zLLpLBfA0n4s",
        "outputId": "66f8c7fe-f8ee-4761-982c-eea1d21dfd58"
      },
      "execution_count": 34,
      "outputs": [
        {
          "output_type": "execute_result",
          "data": {
            "text/plain": [
              "array([1, 4])"
            ]
          },
          "metadata": {},
          "execution_count": 34
        }
      ]
    },
    {
      "cell_type": "markdown",
      "source": [
        "The `*` operators elementwise (not matrix multiplication). Matrix multiplication is typically using `@` operator or the `dot` function."
      ],
      "metadata": {
        "id": "Nuq8Tkb7063z"
      }
    },
    {
      "cell_type": "code",
      "source": [
        "a = np.eye(2)\n",
        "b = np.array([\n",
        "    [3, 7],\n",
        "    [0, 5]\n",
        "])\n"
      ],
      "metadata": {
        "id": "r0iE0DcJ0n2s"
      },
      "execution_count": 35,
      "outputs": []
    },
    {
      "cell_type": "code",
      "source": [
        "a"
      ],
      "metadata": {
        "colab": {
          "base_uri": "https://localhost:8080/"
        },
        "id": "8HvO6hRN0n0e",
        "outputId": "d71ce2ee-f367-4026-b16b-aadb6bf4b96c"
      },
      "execution_count": 36,
      "outputs": [
        {
          "output_type": "execute_result",
          "data": {
            "text/plain": [
              "array([[1., 0.],\n",
              "       [0., 1.]])"
            ]
          },
          "metadata": {},
          "execution_count": 36
        }
      ]
    },
    {
      "cell_type": "code",
      "source": [
        "# elementwise product\n",
        "a * b"
      ],
      "metadata": {
        "colab": {
          "base_uri": "https://localhost:8080/"
        },
        "id": "VAfT9_fa0nuG",
        "outputId": "5fe5a006-a810-481c-b4d1-d477d4a7f212"
      },
      "execution_count": 37,
      "outputs": [
        {
          "output_type": "execute_result",
          "data": {
            "text/plain": [
              "array([[3., 0.],\n",
              "       [0., 5.]])"
            ]
          },
          "metadata": {},
          "execution_count": 37
        }
      ]
    },
    {
      "cell_type": "code",
      "source": [
        "# matrix product\n",
        "a @ b"
      ],
      "metadata": {
        "colab": {
          "base_uri": "https://localhost:8080/"
        },
        "id": "zUVgTlht1SmS",
        "outputId": "59d50fb8-73f6-4e05-c88e-9f6bccbfa876"
      },
      "execution_count": 38,
      "outputs": [
        {
          "output_type": "execute_result",
          "data": {
            "text/plain": [
              "array([[3., 7.],\n",
              "       [0., 5.]])"
            ]
          },
          "metadata": {},
          "execution_count": 38
        }
      ]
    },
    {
      "cell_type": "code",
      "source": [
        "# matrix product using procedural function dot\n",
        "np.dot(a, b)"
      ],
      "metadata": {
        "colab": {
          "base_uri": "https://localhost:8080/"
        },
        "id": "ltYdvBvM1SkI",
        "outputId": "4da42c52-18ca-4664-cbad-3135d56c745e"
      },
      "execution_count": 39,
      "outputs": [
        {
          "output_type": "execute_result",
          "data": {
            "text/plain": [
              "array([[3., 7.],\n",
              "       [0., 5.]])"
            ]
          },
          "metadata": {},
          "execution_count": 39
        }
      ]
    },
    {
      "cell_type": "code",
      "source": [
        "# matrix product using OOP method dot\n",
        "\n",
        "a.dot(b)"
      ],
      "metadata": {
        "colab": {
          "base_uri": "https://localhost:8080/"
        },
        "id": "75_3ZtDG1e6f",
        "outputId": "5f7629f9-432d-4d3e-fdc3-1934c087867a"
      },
      "execution_count": 40,
      "outputs": [
        {
          "output_type": "execute_result",
          "data": {
            "text/plain": [
              "array([[3., 7.],\n",
              "       [0., 5.]])"
            ]
          },
          "metadata": {},
          "execution_count": 40
        }
      ]
    },
    {
      "cell_type": "code",
      "source": [
        "m = np.random.randint(0, 100, (4, 5))\n",
        "m"
      ],
      "metadata": {
        "colab": {
          "base_uri": "https://localhost:8080/"
        },
        "id": "wRK2ZMQL1_sc",
        "outputId": "53fefc1c-bdab-4630-fdee-82c1f947928b"
      },
      "execution_count": 41,
      "outputs": [
        {
          "output_type": "execute_result",
          "data": {
            "text/plain": [
              "array([[25, 29, 56, 83, 72],\n",
              "       [71, 45, 62, 48,  3],\n",
              "       [69, 30, 84, 95, 15],\n",
              "       [ 6, 50, 46,  5, 36]])"
            ]
          },
          "metadata": {},
          "execution_count": 41
        }
      ]
    },
    {
      "cell_type": "code",
      "source": [
        "# logical operators\n",
        "m > 50"
      ],
      "metadata": {
        "colab": {
          "base_uri": "https://localhost:8080/"
        },
        "id": "pYFQWM9d2JNn",
        "outputId": "4c041532-8b17-4961-c67b-58196a2b05e9"
      },
      "execution_count": 42,
      "outputs": [
        {
          "output_type": "execute_result",
          "data": {
            "text/plain": [
              "array([[False, False,  True,  True,  True],\n",
              "       [ True, False,  True, False, False],\n",
              "       [ True, False,  True,  True, False],\n",
              "       [False, False, False, False, False]])"
            ]
          },
          "metadata": {},
          "execution_count": 42
        }
      ]
    },
    {
      "cell_type": "markdown",
      "source": [
        "**Unary operations**\n"
      ],
      "metadata": {
        "id": "cN_ujJam2p_2"
      }
    },
    {
      "cell_type": "code",
      "source": [
        "a = np.random.randint(0, 10, (4, 3))\n",
        "a"
      ],
      "metadata": {
        "colab": {
          "base_uri": "https://localhost:8080/"
        },
        "id": "5xOxdOk_2pbB",
        "outputId": "9226b193-6cfe-4373-fddc-733bdd18d664"
      },
      "execution_count": 43,
      "outputs": [
        {
          "output_type": "execute_result",
          "data": {
            "text/plain": [
              "array([[7, 9, 5],\n",
              "       [4, 5, 4],\n",
              "       [1, 4, 6],\n",
              "       [7, 4, 3]])"
            ]
          },
          "metadata": {},
          "execution_count": 43
        }
      ]
    },
    {
      "cell_type": "code",
      "source": [
        "a.sum()"
      ],
      "metadata": {
        "colab": {
          "base_uri": "https://localhost:8080/"
        },
        "id": "72CtW6a328iA",
        "outputId": "2fef3bc3-7014-4d71-82f9-cce6c5d0e058"
      },
      "execution_count": 44,
      "outputs": [
        {
          "output_type": "execute_result",
          "data": {
            "text/plain": [
              "59"
            ]
          },
          "metadata": {},
          "execution_count": 44
        }
      ]
    },
    {
      "cell_type": "code",
      "source": [
        "a.sum(axis=0)"
      ],
      "metadata": {
        "colab": {
          "base_uri": "https://localhost:8080/"
        },
        "id": "M7N9u6n928f6",
        "outputId": "fea298e7-9a85-4f38-a627-2b2ee4cb9c94"
      },
      "execution_count": 45,
      "outputs": [
        {
          "output_type": "execute_result",
          "data": {
            "text/plain": [
              "array([19, 22, 18])"
            ]
          },
          "metadata": {},
          "execution_count": 45
        }
      ]
    },
    {
      "cell_type": "code",
      "source": [
        "a.sum(axis=1)"
      ],
      "metadata": {
        "colab": {
          "base_uri": "https://localhost:8080/"
        },
        "id": "mcZ6zfrD28do",
        "outputId": "320cfc11-debf-4233-9445-f73b59a4357d"
      },
      "execution_count": 46,
      "outputs": [
        {
          "output_type": "execute_result",
          "data": {
            "text/plain": [
              "array([21, 13, 11, 14])"
            ]
          },
          "metadata": {},
          "execution_count": 46
        }
      ]
    },
    {
      "cell_type": "code",
      "source": [
        "a.max()"
      ],
      "metadata": {
        "colab": {
          "base_uri": "https://localhost:8080/"
        },
        "id": "BFHjglmg3NCl",
        "outputId": "6e11ea6e-7752-4031-b8dd-a669a296b2a6"
      },
      "execution_count": 47,
      "outputs": [
        {
          "output_type": "execute_result",
          "data": {
            "text/plain": [
              "9"
            ]
          },
          "metadata": {},
          "execution_count": 47
        }
      ]
    },
    {
      "cell_type": "code",
      "source": [
        "a.max(axis=0)"
      ],
      "metadata": {
        "colab": {
          "base_uri": "https://localhost:8080/"
        },
        "id": "mEkPq-vl3NAn",
        "outputId": "84231dde-f669-4382-ca31-9fe50918e4d3"
      },
      "execution_count": 48,
      "outputs": [
        {
          "output_type": "execute_result",
          "data": {
            "text/plain": [
              "array([7, 9, 6])"
            ]
          },
          "metadata": {},
          "execution_count": 48
        }
      ]
    },
    {
      "cell_type": "code",
      "source": [
        "a.min(axis=1)"
      ],
      "metadata": {
        "colab": {
          "base_uri": "https://localhost:8080/"
        },
        "id": "wDSB89gc3M-v",
        "outputId": "bb18fa69-76fb-471b-f489-83b24c178c8f"
      },
      "execution_count": 49,
      "outputs": [
        {
          "output_type": "execute_result",
          "data": {
            "text/plain": [
              "array([5, 4, 1, 3])"
            ]
          },
          "metadata": {},
          "execution_count": 49
        }
      ]
    },
    {
      "cell_type": "code",
      "source": [
        "a.cumsum()"
      ],
      "metadata": {
        "colab": {
          "base_uri": "https://localhost:8080/"
        },
        "id": "TA4zgQ2d3iS3",
        "outputId": "649d26b4-497d-4908-ae75-093374ab3eb0"
      },
      "execution_count": 50,
      "outputs": [
        {
          "output_type": "execute_result",
          "data": {
            "text/plain": [
              "array([ 7, 16, 21, 25, 30, 34, 35, 39, 45, 52, 56, 59])"
            ]
          },
          "metadata": {},
          "execution_count": 50
        }
      ]
    },
    {
      "cell_type": "code",
      "source": [
        "a.cumsum(axis=0)"
      ],
      "metadata": {
        "colab": {
          "base_uri": "https://localhost:8080/"
        },
        "id": "18s6r9Po3Y1p",
        "outputId": "ff0fbc54-09f1-491e-cae8-e788cab5a70c"
      },
      "execution_count": 51,
      "outputs": [
        {
          "output_type": "execute_result",
          "data": {
            "text/plain": [
              "array([[ 7,  9,  5],\n",
              "       [11, 14,  9],\n",
              "       [12, 18, 15],\n",
              "       [19, 22, 18]])"
            ]
          },
          "metadata": {},
          "execution_count": 51
        }
      ]
    },
    {
      "cell_type": "code",
      "source": [
        "a.transpose()"
      ],
      "metadata": {
        "colab": {
          "base_uri": "https://localhost:8080/"
        },
        "id": "D8qGwnlj34qy",
        "outputId": "d8488049-c597-4e70-aac4-3cea7b4f8c7b"
      },
      "execution_count": 52,
      "outputs": [
        {
          "output_type": "execute_result",
          "data": {
            "text/plain": [
              "array([[7, 4, 1, 7],\n",
              "       [9, 5, 4, 4],\n",
              "       [5, 4, 6, 3]])"
            ]
          },
          "metadata": {},
          "execution_count": 52
        }
      ]
    },
    {
      "cell_type": "code",
      "source": [
        "a.flatten()"
      ],
      "metadata": {
        "colab": {
          "base_uri": "https://localhost:8080/"
        },
        "id": "Nxo5AEXt4BJk",
        "outputId": "a56a688a-a6ba-49ee-8bbe-1f5f7c8a0e82"
      },
      "execution_count": 53,
      "outputs": [
        {
          "output_type": "execute_result",
          "data": {
            "text/plain": [
              "array([7, 9, 5, 4, 5, 4, 1, 4, 6, 7, 4, 3])"
            ]
          },
          "metadata": {},
          "execution_count": 53
        }
      ]
    },
    {
      "cell_type": "markdown",
      "source": [
        "### Indexing and Slicing\n",
        "\n",
        "Very similar to standard lists"
      ],
      "metadata": {
        "id": "obAaePGdlwuO"
      }
    },
    {
      "cell_type": "code",
      "source": [
        "n = np.arange(1, 10, 2) ** 2\n",
        "print(n)"
      ],
      "metadata": {
        "colab": {
          "base_uri": "https://localhost:8080/"
        },
        "id": "MAjZ1MOCWk-o",
        "outputId": "980c7957-655b-4046-b857-5a3b6b00b828"
      },
      "execution_count": 54,
      "outputs": [
        {
          "output_type": "stream",
          "name": "stdout",
          "text": [
            "[ 1  9 25 49 81]\n"
          ]
        }
      ]
    },
    {
      "cell_type": "code",
      "source": [
        "n[2]"
      ],
      "metadata": {
        "colab": {
          "base_uri": "https://localhost:8080/"
        },
        "id": "_CJ4DNP6Wzbq",
        "outputId": "b60804b9-ccf9-4939-da11-58801b36b736"
      },
      "execution_count": 55,
      "outputs": [
        {
          "output_type": "execute_result",
          "data": {
            "text/plain": [
              "25"
            ]
          },
          "metadata": {},
          "execution_count": 55
        }
      ]
    },
    {
      "cell_type": "code",
      "source": [
        "n[-3:]"
      ],
      "metadata": {
        "colab": {
          "base_uri": "https://localhost:8080/"
        },
        "id": "m1Xpj5HpW2fL",
        "outputId": "50c560b4-249d-41fe-ece4-029396a3329e"
      },
      "execution_count": 56,
      "outputs": [
        {
          "output_type": "execute_result",
          "data": {
            "text/plain": [
              "array([25, 49, 81])"
            ]
          },
          "metadata": {},
          "execution_count": 56
        }
      ]
    },
    {
      "cell_type": "code",
      "source": [
        "n = np.random.randint(1, 100, (3, 5))\n",
        "n"
      ],
      "metadata": {
        "colab": {
          "base_uri": "https://localhost:8080/"
        },
        "id": "KOkv5bFUYA70",
        "outputId": "fb5690ca-98b9-4380-f9ba-985ddc56b9ff"
      },
      "execution_count": 57,
      "outputs": [
        {
          "output_type": "execute_result",
          "data": {
            "text/plain": [
              "array([[31, 53, 39, 26, 41],\n",
              "       [84, 61, 85, 29, 16],\n",
              "       [53, 80, 21, 30, 48]])"
            ]
          },
          "metadata": {},
          "execution_count": 57
        }
      ]
    },
    {
      "cell_type": "code",
      "source": [
        "n[0, 1]"
      ],
      "metadata": {
        "colab": {
          "base_uri": "https://localhost:8080/"
        },
        "id": "8nHpxcRMYKXm",
        "outputId": "cf1de4b8-f53e-46af-90d1-64dfa0af616e"
      },
      "execution_count": 58,
      "outputs": [
        {
          "output_type": "execute_result",
          "data": {
            "text/plain": [
              "53"
            ]
          },
          "metadata": {},
          "execution_count": 58
        }
      ]
    },
    {
      "cell_type": "code",
      "source": [
        "n[0][1]"
      ],
      "metadata": {
        "colab": {
          "base_uri": "https://localhost:8080/"
        },
        "id": "a5ubfPuPYPgy",
        "outputId": "970831f2-a52b-4a5e-cf8c-f0d0165c6509"
      },
      "execution_count": 59,
      "outputs": [
        {
          "output_type": "execute_result",
          "data": {
            "text/plain": [
              "53"
            ]
          },
          "metadata": {},
          "execution_count": 59
        }
      ]
    },
    {
      "cell_type": "code",
      "source": [
        "n[1:3, 1:3]"
      ],
      "metadata": {
        "colab": {
          "base_uri": "https://localhost:8080/"
        },
        "id": "oD_xPU4GYUcQ",
        "outputId": "ed5511d9-5d30-4817-f366-6a8388b30457"
      },
      "execution_count": 60,
      "outputs": [
        {
          "output_type": "execute_result",
          "data": {
            "text/plain": [
              "array([[61, 85],\n",
              "       [80, 21]])"
            ]
          },
          "metadata": {},
          "execution_count": 60
        }
      ]
    },
    {
      "cell_type": "code",
      "source": [
        "n[:, 2] # all rows in the third column"
      ],
      "metadata": {
        "colab": {
          "base_uri": "https://localhost:8080/"
        },
        "id": "DAOOwBD-LtzD",
        "outputId": "e598441d-6c6a-4662-d504-8836b92deb39"
      },
      "execution_count": 61,
      "outputs": [
        {
          "output_type": "execute_result",
          "data": {
            "text/plain": [
              "array([39, 85, 21])"
            ]
          },
          "metadata": {},
          "execution_count": 61
        }
      ]
    },
    {
      "cell_type": "code",
      "source": [
        "n > 50"
      ],
      "metadata": {
        "colab": {
          "base_uri": "https://localhost:8080/"
        },
        "id": "gU7E-7hfZXGn",
        "outputId": "a1398649-e118-48da-ac73-a29ff12cc322"
      },
      "execution_count": 62,
      "outputs": [
        {
          "output_type": "execute_result",
          "data": {
            "text/plain": [
              "array([[False,  True, False, False, False],\n",
              "       [ True,  True,  True, False, False],\n",
              "       [ True,  True, False, False, False]])"
            ]
          },
          "metadata": {},
          "execution_count": 62
        }
      ]
    },
    {
      "cell_type": "code",
      "source": [
        "n[n > 50]"
      ],
      "metadata": {
        "colab": {
          "base_uri": "https://localhost:8080/"
        },
        "id": "6qhIwv0TZdY9",
        "outputId": "ff0cc81f-b1c8-4d7f-fbe2-0da0fb1811d7"
      },
      "execution_count": 63,
      "outputs": [
        {
          "output_type": "execute_result",
          "data": {
            "text/plain": [
              "array([53, 84, 61, 85, 53, 80])"
            ]
          },
          "metadata": {},
          "execution_count": 63
        }
      ]
    },
    {
      "cell_type": "markdown",
      "source": [
        "### Shape Manipulation"
      ],
      "metadata": {
        "id": "TJ3-m-Vdlwk2"
      }
    },
    {
      "cell_type": "code",
      "source": [
        "n = np.random.randint(1, 100, (3, 8))\n",
        "n"
      ],
      "metadata": {
        "colab": {
          "base_uri": "https://localhost:8080/"
        },
        "id": "Vo_tTwQFZqt1",
        "outputId": "5033ee8e-0b24-4717-9895-dd570882aa65"
      },
      "execution_count": 64,
      "outputs": [
        {
          "output_type": "execute_result",
          "data": {
            "text/plain": [
              "array([[44, 94, 18,  6, 24,  3, 72, 71],\n",
              "       [73, 39, 70, 27, 86, 35, 22, 72],\n",
              "       [17, 15, 99, 11, 82, 99, 39, 89]])"
            ]
          },
          "metadata": {},
          "execution_count": 64
        }
      ]
    },
    {
      "cell_type": "code",
      "source": [
        "n.shape"
      ],
      "metadata": {
        "colab": {
          "base_uri": "https://localhost:8080/"
        },
        "id": "GFW2kggAZzxM",
        "outputId": "7bdfa0a9-7343-4481-c248-13df9532d78f"
      },
      "execution_count": 65,
      "outputs": [
        {
          "output_type": "execute_result",
          "data": {
            "text/plain": [
              "(3, 8)"
            ]
          },
          "metadata": {},
          "execution_count": 65
        }
      ]
    },
    {
      "cell_type": "code",
      "source": [
        "# flatten the array\n",
        "n.ravel()"
      ],
      "metadata": {
        "colab": {
          "base_uri": "https://localhost:8080/"
        },
        "id": "aLcuzamkZ2a4",
        "outputId": "642865ce-c8c4-481a-fe89-38886b3d3cce"
      },
      "execution_count": 66,
      "outputs": [
        {
          "output_type": "execute_result",
          "data": {
            "text/plain": [
              "array([44, 94, 18,  6, 24,  3, 72, 71, 73, 39, 70, 27, 86, 35, 22, 72, 17,\n",
              "       15, 99, 11, 82, 99, 39, 89])"
            ]
          },
          "metadata": {},
          "execution_count": 66
        }
      ]
    },
    {
      "cell_type": "code",
      "source": [
        "# ravel returns a new array but keeps the original unchanged\n",
        "n"
      ],
      "metadata": {
        "colab": {
          "base_uri": "https://localhost:8080/"
        },
        "id": "fQ7dg_C2Nw6h",
        "outputId": "c5c04a98-50e8-4760-9781-8f456169c0a1"
      },
      "execution_count": 67,
      "outputs": [
        {
          "output_type": "execute_result",
          "data": {
            "text/plain": [
              "array([[44, 94, 18,  6, 24,  3, 72, 71],\n",
              "       [73, 39, 70, 27, 86, 35, 22, 72],\n",
              "       [17, 15, 99, 11, 82, 99, 39, 89]])"
            ]
          },
          "metadata": {},
          "execution_count": 67
        }
      ]
    },
    {
      "cell_type": "code",
      "source": [
        "n.flatten() # similar to ravel"
      ],
      "metadata": {
        "colab": {
          "base_uri": "https://localhost:8080/"
        },
        "id": "9wGIn6FkZ6rd",
        "outputId": "2ecb0c3d-3df1-4165-b84d-894c409d348b"
      },
      "execution_count": 68,
      "outputs": [
        {
          "output_type": "execute_result",
          "data": {
            "text/plain": [
              "array([44, 94, 18,  6, 24,  3, 72, 71, 73, 39, 70, 27, 86, 35, 22, 72, 17,\n",
              "       15, 99, 11, 82, 99, 39, 89])"
            ]
          },
          "metadata": {},
          "execution_count": 68
        }
      ]
    },
    {
      "cell_type": "code",
      "source": [
        "n.reshape(2, 12) # returns a new array but keep original unchanged"
      ],
      "metadata": {
        "colab": {
          "base_uri": "https://localhost:8080/"
        },
        "id": "khj7kY_EZ-IB",
        "outputId": "0d7f67ef-5aec-4c84-ff97-3ac86bf7d05f"
      },
      "execution_count": 69,
      "outputs": [
        {
          "output_type": "execute_result",
          "data": {
            "text/plain": [
              "array([[44, 94, 18,  6, 24,  3, 72, 71, 73, 39, 70, 27],\n",
              "       [86, 35, 22, 72, 17, 15, 99, 11, 82, 99, 39, 89]])"
            ]
          },
          "metadata": {},
          "execution_count": 69
        }
      ]
    },
    {
      "cell_type": "code",
      "source": [
        "n.reshape(2, -1) # -1 automatically calculated"
      ],
      "metadata": {
        "colab": {
          "base_uri": "https://localhost:8080/"
        },
        "id": "IQbwTP5paMwd",
        "outputId": "bd26207a-4c60-44d2-c478-acf0b7e2c6ba"
      },
      "execution_count": 70,
      "outputs": [
        {
          "output_type": "execute_result",
          "data": {
            "text/plain": [
              "array([[44, 94, 18,  6, 24,  3, 72, 71, 73, 39, 70, 27],\n",
              "       [86, 35, 22, 72, 17, 15, 99, 11, 82, 99, 39, 89]])"
            ]
          },
          "metadata": {},
          "execution_count": 70
        }
      ]
    },
    {
      "cell_type": "code",
      "source": [
        "n"
      ],
      "metadata": {
        "colab": {
          "base_uri": "https://localhost:8080/"
        },
        "id": "QAYoMETnOlMq",
        "outputId": "fffb03a1-d9bf-4243-e86d-a8052fc994b5"
      },
      "execution_count": 71,
      "outputs": [
        {
          "output_type": "execute_result",
          "data": {
            "text/plain": [
              "array([[44, 94, 18,  6, 24,  3, 72, 71],\n",
              "       [73, 39, 70, 27, 86, 35, 22, 72],\n",
              "       [17, 15, 99, 11, 82, 99, 39, 89]])"
            ]
          },
          "metadata": {},
          "execution_count": 71
        }
      ]
    },
    {
      "cell_type": "code",
      "source": [
        "n.resize(2, 12) # reshape modifies the array itself"
      ],
      "metadata": {
        "id": "6B5hTjhUan8k"
      },
      "execution_count": 72,
      "outputs": []
    },
    {
      "cell_type": "code",
      "source": [
        "n"
      ],
      "metadata": {
        "colab": {
          "base_uri": "https://localhost:8080/"
        },
        "id": "9aFj1vT8OnAI",
        "outputId": "02941a92-da49-4307-e74e-b1c7f06242f0"
      },
      "execution_count": 73,
      "outputs": [
        {
          "output_type": "execute_result",
          "data": {
            "text/plain": [
              "array([[44, 94, 18,  6, 24,  3, 72, 71, 73, 39, 70, 27],\n",
              "       [86, 35, 22, 72, 17, 15, 99, 11, 82, 99, 39, 89]])"
            ]
          },
          "metadata": {},
          "execution_count": 73
        }
      ]
    },
    {
      "cell_type": "code",
      "source": [
        "n.shape"
      ],
      "metadata": {
        "colab": {
          "base_uri": "https://localhost:8080/"
        },
        "id": "5JRMNhPkavSS",
        "outputId": "d1a2bb3f-27ac-4042-f4dd-df45e8707dee"
      },
      "execution_count": 74,
      "outputs": [
        {
          "output_type": "execute_result",
          "data": {
            "text/plain": [
              "(2, 12)"
            ]
          },
          "metadata": {},
          "execution_count": 74
        }
      ]
    },
    {
      "cell_type": "markdown",
      "source": [
        "# `matplotlib`\n",
        "\n",
        "A library that allows you to generate graphs. Its interface is very similar to Matlab.\n",
        "\n",
        "The following shows basic plotting examples. If you want something else or more complicated, check this [gallery](https://matplotlib.org/stable/gallery/index.html), look for what might be close to what you want, copy its code, play around with it and adapt it to your needs."
      ],
      "metadata": {
        "id": "W5aOewSkV2xq"
      }
    },
    {
      "cell_type": "code",
      "source": [
        "import matplotlib.pyplot as plt\n",
        "import numpy as np\n",
        "\n",
        "x = np.linspace(-100, 100, 50)\n",
        "y = x ** 2\n",
        "\n",
        "plt.plot(x, y, 'g--', linewidth=2)\n",
        "plt.xlabel('$x$', fontsize=20)\n",
        "plt.ylabel('$y = x^2$', fontsize=20)\n",
        "plt.title('Plot')\n",
        "plt.grid('on')"
      ],
      "metadata": {
        "colab": {
          "base_uri": "https://localhost:8080/",
          "height": 486
        },
        "id": "XXe1oCaPV3GR",
        "outputId": "62780a6f-80e2-4101-dddf-dde3c2f844a8"
      },
      "execution_count": 75,
      "outputs": [
        {
          "output_type": "display_data",
          "data": {
            "text/plain": [
              "<Figure size 640x480 with 1 Axes>"
            ],
            "image/png": "[encoded data removed]"
          },
          "metadata": {}
        }
      ]
    },
    {
      "cell_type": "code",
      "source": [
        "x = np.linspace(-1.5, 1.3, 50)\n",
        "plt.plot(x, x, 'b--', x, x**2, 'g:', x, x**3, 'm^', linewidth=2)\n",
        "plt.grid('on')\n",
        "plt.xlabel('$x$', fontsize=14)\n",
        "plt.legend(['$x$', '$x^2$', '$x^3$'], loc='lower center', fontsize=14)"
      ],
      "metadata": {
        "colab": {
          "base_uri": "https://localhost:8080/",
          "height": 472
        },
        "id": "d-KpkRCTV4Rw",
        "outputId": "96d171dd-1274-470b-e9ea-0f16e0a3bfa3"
      },
      "execution_count": 76,
      "outputs": [
        {
          "output_type": "execute_result",
          "data": {
            "text/plain": [
              "<matplotlib.legend.Legend at 0x7c05a2f762c0>"
            ]
          },
          "metadata": {},
          "execution_count": 76
        },
        {
          "output_type": "display_data",
          "data": {
            "text/plain": [
              "<Figure size 640x480 with 1 Axes>"
            ],
            "image/png": "[encoded data removed]"
          },
          "metadata": {}
        }
      ]
    }
  ]
}